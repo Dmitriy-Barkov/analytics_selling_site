{
 "cells": [
  {
   "cell_type": "code",
   "execution_count": 1,
   "metadata": {},
   "outputs": [],
   "source": [
    "import numpy as np\n",
    "import pandas as pd\n",
    "from scipy.stats import norm\n",
    "import matplotlib.pyplot as plt\n",
    "from tqdm.auto import tqdm\n",
    "\n",
    "# plt.style.use('ggplot')\n",
    "\n",
    "import os\n",
    "from scipy import stats as ss\n",
    "import seaborn as sns\n",
    "import statsmodels.api as sm\n",
    "%matplotlib inline"
   ]
  },
  {
   "cell_type": "code",
   "execution_count": 2,
   "metadata": {},
   "outputs": [],
   "source": [
    "def get_bootstrap(\n",
    "    data_column_1,  # числовые значения первой выборки\n",
    "    data_column_2,  # числовые значения второй выборки\n",
    "    boot_it=10000,  # количество бутстрэп-подвыборок\n",
    "    statistic=np.mean,  # интересующая нас статистика\n",
    "    bootstrap_conf_level=0.95  # уровень значимости\n",
    "):\n",
    "    boot_data = []\n",
    "    for i in tqdm(range(boot_it)):  # извлекаем подвыборки\n",
    "        samples_1 = data_column_1.sample(\n",
    "            len(data_column_1), \n",
    "            replace=True  # параметр возвращения\n",
    "        ).values\n",
    "        \n",
    "        samples_2 = data_column_2.sample(\n",
    "            len(data_column_1), \n",
    "            replace=True\n",
    "        ).values\n",
    "        \n",
    "        boot_data.append(statistic(samples_1) - statistic(samples_2))  # mean() - применяем статистику\n",
    "        \n",
    "    pd_boot_data = pd.DataFrame(boot_data)\n",
    "        \n",
    "    left_quant = (1 - bootstrap_conf_level) / 2\n",
    "    right_quant = 1 - (1 - bootstrap_conf_level) / 2\n",
    "    quants = pd_boot_data.quantile([left_quant, right_quant])\n",
    "    \n",
    "    p_1 = norm.cdf(\n",
    "        x=0, \n",
    "        loc=np.mean(boot_data), \n",
    "        scale=np.std(boot_data)\n",
    "    )\n",
    "    p_2 = norm.cdf(\n",
    "        x=0, \n",
    "        loc=-np.mean(boot_data), \n",
    "        scale=np.std(boot_data)\n",
    "    )\n",
    "    p_value = min(p_1, p_2) * 2\n",
    "        \n",
    "    # Визуализация\n",
    "    _, _, bars = plt.hist(pd_boot_data[0], bins=50)\n",
    "    for bar in bars:\n",
    "        if bar.get_x() <= quants.iloc[0][0] or bar.get_x() >= quants.iloc[1][0]:\n",
    "            bar.set_facecolor('red')\n",
    "        else: \n",
    "            bar.set_facecolor('grey')\n",
    "            bar.set_edgecolor('black')\n",
    "    \n",
    "    plt.style.use('ggplot')\n",
    "    plt.vlines(quants, ymin=0, ymax=50, linestyle='--')\n",
    "    plt.xlabel('boot_data')\n",
    "    plt.ylabel('frequency')\n",
    "    plt.title(\"Histogram of boot_data\")\n",
    "    plt.show()\n",
    "       \n",
    "    return {\"boot_data\": boot_data, \n",
    "            \"quants\": quants, \n",
    "            \"p_value\": p_value}"
   ]
  },
  {
   "cell_type": "markdown",
   "metadata": {},
   "source": [
    "## Загрузка данных"
   ]
  },
  {
   "cell_type": "code",
   "execution_count": 3,
   "metadata": {},
   "outputs": [],
   "source": [
    "for file in os.listdir(os.getcwd()):\n",
    "    if 'groups' in file:\n",
    "        groups_path = os.path.abspath(file)\n",
    "    if 'group_add' in file:\n",
    "        group_add_path = os.path.abspath(file)\n",
    "    if 'active_studs' in file:\n",
    "        active_studs_path = os.path.abspath(file)\n",
    "    if 'checks' in file:\n",
    "        checks_path = os.path.abspath(file)"
   ]
  },
  {
   "cell_type": "code",
   "execution_count": 4,
   "metadata": {},
   "outputs": [],
   "source": [
    "groups_df = pd.read_csv(groups_path, sep=\";\")\n",
    "group_add_df = pd.read_csv(group_add_path)\n",
    "active_studs_df = pd.read_csv(active_studs_path).rename(columns={'student_id': 'id'})\n",
    "checks_df = pd.read_csv(checks_path, sep=\";\").rename(columns={'student_id': 'id'})"
   ]
  },
  {
   "cell_type": "markdown",
   "metadata": {},
   "source": [
    "# Задание 1. A/B–тестирование"
   ]
  },
  {
   "cell_type": "markdown",
   "metadata": {},
   "source": [
    "### 1.1 Предварительная оценка данных"
   ]
  },
  {
   "cell_type": "markdown",
   "metadata": {},
   "source": [
    "##### groups_df"
   ]
  },
  {
   "cell_type": "code",
   "execution_count": 5,
   "metadata": {},
   "outputs": [
    {
     "data": {
      "text/html": [
       "<div>\n",
       "<style scoped>\n",
       "    .dataframe tbody tr th:only-of-type {\n",
       "        vertical-align: middle;\n",
       "    }\n",
       "\n",
       "    .dataframe tbody tr th {\n",
       "        vertical-align: top;\n",
       "    }\n",
       "\n",
       "    .dataframe thead th {\n",
       "        text-align: right;\n",
       "    }\n",
       "</style>\n",
       "<table border=\"1\" class=\"dataframe\">\n",
       "  <thead>\n",
       "    <tr style=\"text-align: right;\">\n",
       "      <th></th>\n",
       "      <th>id</th>\n",
       "      <th>grp</th>\n",
       "    </tr>\n",
       "  </thead>\n",
       "  <tbody>\n",
       "    <tr>\n",
       "      <th>0</th>\n",
       "      <td>1489</td>\n",
       "      <td>B</td>\n",
       "    </tr>\n",
       "    <tr>\n",
       "      <th>1</th>\n",
       "      <td>1627</td>\n",
       "      <td>A</td>\n",
       "    </tr>\n",
       "    <tr>\n",
       "      <th>2</th>\n",
       "      <td>1768</td>\n",
       "      <td>B</td>\n",
       "    </tr>\n",
       "    <tr>\n",
       "      <th>3</th>\n",
       "      <td>1783</td>\n",
       "      <td>B</td>\n",
       "    </tr>\n",
       "    <tr>\n",
       "      <th>4</th>\n",
       "      <td>1794</td>\n",
       "      <td>A</td>\n",
       "    </tr>\n",
       "  </tbody>\n",
       "</table>\n",
       "</div>"
      ],
      "text/plain": [
       "     id grp\n",
       "0  1489   B\n",
       "1  1627   A\n",
       "2  1768   B\n",
       "3  1783   B\n",
       "4  1794   A"
      ]
     },
     "execution_count": 5,
     "metadata": {},
     "output_type": "execute_result"
    }
   ],
   "source": [
    "groups_df.head()"
   ]
  },
  {
   "cell_type": "code",
   "execution_count": 6,
   "metadata": {},
   "outputs": [
    {
     "name": "stdout",
     "output_type": "stream",
     "text": [
      "<class 'pandas.core.frame.DataFrame'>\n",
      "RangeIndex: 74484 entries, 0 to 74483\n",
      "Data columns (total 2 columns):\n",
      " #   Column  Non-Null Count  Dtype \n",
      "---  ------  --------------  ----- \n",
      " 0   id      74484 non-null  int64 \n",
      " 1   grp     74484 non-null  object\n",
      "dtypes: int64(1), object(1)\n",
      "memory usage: 1.1+ MB\n"
     ]
    }
   ],
   "source": [
    "groups_df.info()"
   ]
  },
  {
   "cell_type": "code",
   "execution_count": 7,
   "metadata": {},
   "outputs": [
    {
     "data": {
      "text/plain": [
       "id     0\n",
       "grp    0\n",
       "dtype: int64"
      ]
     },
     "execution_count": 7,
     "metadata": {},
     "output_type": "execute_result"
    }
   ],
   "source": [
    "groups_df.isna().sum()"
   ]
  },
  {
   "cell_type": "markdown",
   "metadata": {},
   "source": [
    "##### group_add_df"
   ]
  },
  {
   "cell_type": "code",
   "execution_count": 8,
   "metadata": {},
   "outputs": [
    {
     "data": {
      "text/html": [
       "<div>\n",
       "<style scoped>\n",
       "    .dataframe tbody tr th:only-of-type {\n",
       "        vertical-align: middle;\n",
       "    }\n",
       "\n",
       "    .dataframe tbody tr th {\n",
       "        vertical-align: top;\n",
       "    }\n",
       "\n",
       "    .dataframe thead th {\n",
       "        text-align: right;\n",
       "    }\n",
       "</style>\n",
       "<table border=\"1\" class=\"dataframe\">\n",
       "  <thead>\n",
       "    <tr style=\"text-align: right;\">\n",
       "      <th></th>\n",
       "      <th>id</th>\n",
       "      <th>grp</th>\n",
       "    </tr>\n",
       "  </thead>\n",
       "  <tbody>\n",
       "    <tr>\n",
       "      <th>0</th>\n",
       "      <td>5694584</td>\n",
       "      <td>B</td>\n",
       "    </tr>\n",
       "    <tr>\n",
       "      <th>1</th>\n",
       "      <td>5694830</td>\n",
       "      <td>B</td>\n",
       "    </tr>\n",
       "    <tr>\n",
       "      <th>2</th>\n",
       "      <td>5695057</td>\n",
       "      <td>B</td>\n",
       "    </tr>\n",
       "    <tr>\n",
       "      <th>3</th>\n",
       "      <td>5698872</td>\n",
       "      <td>B</td>\n",
       "    </tr>\n",
       "    <tr>\n",
       "      <th>4</th>\n",
       "      <td>5699067</td>\n",
       "      <td>B</td>\n",
       "    </tr>\n",
       "  </tbody>\n",
       "</table>\n",
       "</div>"
      ],
      "text/plain": [
       "        id grp\n",
       "0  5694584   B\n",
       "1  5694830   B\n",
       "2  5695057   B\n",
       "3  5698872   B\n",
       "4  5699067   B"
      ]
     },
     "execution_count": 8,
     "metadata": {},
     "output_type": "execute_result"
    }
   ],
   "source": [
    "group_add_df.head()"
   ]
  },
  {
   "cell_type": "code",
   "execution_count": 9,
   "metadata": {},
   "outputs": [
    {
     "name": "stdout",
     "output_type": "stream",
     "text": [
      "<class 'pandas.core.frame.DataFrame'>\n",
      "RangeIndex: 92 entries, 0 to 91\n",
      "Data columns (total 2 columns):\n",
      " #   Column  Non-Null Count  Dtype \n",
      "---  ------  --------------  ----- \n",
      " 0   id      92 non-null     int64 \n",
      " 1   grp     92 non-null     object\n",
      "dtypes: int64(1), object(1)\n",
      "memory usage: 1.6+ KB\n"
     ]
    }
   ],
   "source": [
    "group_add_df.info()"
   ]
  },
  {
   "cell_type": "code",
   "execution_count": 10,
   "metadata": {},
   "outputs": [
    {
     "data": {
      "text/plain": [
       "id     0\n",
       "grp    0\n",
       "dtype: int64"
      ]
     },
     "execution_count": 10,
     "metadata": {},
     "output_type": "execute_result"
    }
   ],
   "source": [
    "group_add_df.isna().sum()"
   ]
  },
  {
   "cell_type": "markdown",
   "metadata": {},
   "source": [
    "##### active_studs_df"
   ]
  },
  {
   "cell_type": "code",
   "execution_count": 11,
   "metadata": {},
   "outputs": [
    {
     "data": {
      "text/html": [
       "<div>\n",
       "<style scoped>\n",
       "    .dataframe tbody tr th:only-of-type {\n",
       "        vertical-align: middle;\n",
       "    }\n",
       "\n",
       "    .dataframe tbody tr th {\n",
       "        vertical-align: top;\n",
       "    }\n",
       "\n",
       "    .dataframe thead th {\n",
       "        text-align: right;\n",
       "    }\n",
       "</style>\n",
       "<table border=\"1\" class=\"dataframe\">\n",
       "  <thead>\n",
       "    <tr style=\"text-align: right;\">\n",
       "      <th></th>\n",
       "      <th>id</th>\n",
       "    </tr>\n",
       "  </thead>\n",
       "  <tbody>\n",
       "    <tr>\n",
       "      <th>0</th>\n",
       "      <td>581585</td>\n",
       "    </tr>\n",
       "    <tr>\n",
       "      <th>1</th>\n",
       "      <td>5723133</td>\n",
       "    </tr>\n",
       "    <tr>\n",
       "      <th>2</th>\n",
       "      <td>3276743</td>\n",
       "    </tr>\n",
       "    <tr>\n",
       "      <th>3</th>\n",
       "      <td>4238589</td>\n",
       "    </tr>\n",
       "    <tr>\n",
       "      <th>4</th>\n",
       "      <td>4475369</td>\n",
       "    </tr>\n",
       "  </tbody>\n",
       "</table>\n",
       "</div>"
      ],
      "text/plain": [
       "        id\n",
       "0   581585\n",
       "1  5723133\n",
       "2  3276743\n",
       "3  4238589\n",
       "4  4475369"
      ]
     },
     "execution_count": 11,
     "metadata": {},
     "output_type": "execute_result"
    }
   ],
   "source": [
    "active_studs_df.head()"
   ]
  },
  {
   "cell_type": "code",
   "execution_count": 12,
   "metadata": {},
   "outputs": [
    {
     "name": "stdout",
     "output_type": "stream",
     "text": [
      "<class 'pandas.core.frame.DataFrame'>\n",
      "RangeIndex: 8341 entries, 0 to 8340\n",
      "Data columns (total 1 columns):\n",
      " #   Column  Non-Null Count  Dtype\n",
      "---  ------  --------------  -----\n",
      " 0   id      8341 non-null   int64\n",
      "dtypes: int64(1)\n",
      "memory usage: 65.3 KB\n"
     ]
    }
   ],
   "source": [
    "active_studs_df.info()"
   ]
  },
  {
   "cell_type": "code",
   "execution_count": 13,
   "metadata": {},
   "outputs": [
    {
     "data": {
      "text/plain": [
       "id    0\n",
       "dtype: int64"
      ]
     },
     "execution_count": 13,
     "metadata": {},
     "output_type": "execute_result"
    }
   ],
   "source": [
    "active_studs_df.isna().sum()"
   ]
  },
  {
   "cell_type": "markdown",
   "metadata": {},
   "source": [
    "##### checks_df"
   ]
  },
  {
   "cell_type": "code",
   "execution_count": 14,
   "metadata": {},
   "outputs": [
    {
     "data": {
      "text/html": [
       "<div>\n",
       "<style scoped>\n",
       "    .dataframe tbody tr th:only-of-type {\n",
       "        vertical-align: middle;\n",
       "    }\n",
       "\n",
       "    .dataframe tbody tr th {\n",
       "        vertical-align: top;\n",
       "    }\n",
       "\n",
       "    .dataframe thead th {\n",
       "        text-align: right;\n",
       "    }\n",
       "</style>\n",
       "<table border=\"1\" class=\"dataframe\">\n",
       "  <thead>\n",
       "    <tr style=\"text-align: right;\">\n",
       "      <th></th>\n",
       "      <th>id</th>\n",
       "      <th>rev</th>\n",
       "    </tr>\n",
       "  </thead>\n",
       "  <tbody>\n",
       "    <tr>\n",
       "      <th>0</th>\n",
       "      <td>1627</td>\n",
       "      <td>990.0</td>\n",
       "    </tr>\n",
       "    <tr>\n",
       "      <th>1</th>\n",
       "      <td>3185</td>\n",
       "      <td>690.0</td>\n",
       "    </tr>\n",
       "    <tr>\n",
       "      <th>2</th>\n",
       "      <td>25973</td>\n",
       "      <td>690.0</td>\n",
       "    </tr>\n",
       "    <tr>\n",
       "      <th>3</th>\n",
       "      <td>26280</td>\n",
       "      <td>690.0</td>\n",
       "    </tr>\n",
       "    <tr>\n",
       "      <th>4</th>\n",
       "      <td>100300</td>\n",
       "      <td>990.0</td>\n",
       "    </tr>\n",
       "  </tbody>\n",
       "</table>\n",
       "</div>"
      ],
      "text/plain": [
       "       id    rev\n",
       "0    1627  990.0\n",
       "1    3185  690.0\n",
       "2   25973  690.0\n",
       "3   26280  690.0\n",
       "4  100300  990.0"
      ]
     },
     "execution_count": 14,
     "metadata": {},
     "output_type": "execute_result"
    }
   ],
   "source": [
    "checks_df.head()"
   ]
  },
  {
   "cell_type": "code",
   "execution_count": 15,
   "metadata": {},
   "outputs": [
    {
     "name": "stdout",
     "output_type": "stream",
     "text": [
      "<class 'pandas.core.frame.DataFrame'>\n",
      "RangeIndex: 541 entries, 0 to 540\n",
      "Data columns (total 2 columns):\n",
      " #   Column  Non-Null Count  Dtype  \n",
      "---  ------  --------------  -----  \n",
      " 0   id      541 non-null    int64  \n",
      " 1   rev     541 non-null    float64\n",
      "dtypes: float64(1), int64(1)\n",
      "memory usage: 8.6 KB\n"
     ]
    }
   ],
   "source": [
    "checks_df.info()"
   ]
  },
  {
   "cell_type": "code",
   "execution_count": 16,
   "metadata": {},
   "outputs": [
    {
     "data": {
      "text/plain": [
       "id     0\n",
       "rev    0\n",
       "dtype: int64"
      ]
     },
     "execution_count": 16,
     "metadata": {},
     "output_type": "execute_result"
    }
   ],
   "source": [
    "checks_df.isna().sum()"
   ]
  },
  {
   "cell_type": "markdown",
   "metadata": {},
   "source": [
    "### 1.2 Создание общей таблицы"
   ]
  },
  {
   "cell_type": "markdown",
   "metadata": {},
   "source": [
    "Для того, чтобы выявить ключевые метрики, при оценке которых можно заключить, как влияет новая механика оплаты услуг на сайте, визуализируем гипотетическую реализацию воронки пользователей сайта до совершения ключевого действия, т.е. произведения оплаты:\n",
    "\n",
    "1) Посетитель зашел на сайт;\n",
    "\n",
    "2) Посетитель добавил в корзину услугу/ товар;\n",
    "\n",
    "3) Посетитель перешел в корзину;\n",
    "\n",
    "4) Посетитель оплатил услугу.\n",
    "\n",
    "Так как в рамках задания нас интересует эффективность внедренной механики оплаты услуг на сайте, проанализируем метрики ступеней 1-4 (CR) и 4 (ARPPU, ARPU):\n",
    "- __СR__ (конверсия в покупку: число пользователей, совершивших покупку / число пользователей, заходивших на сайт)\n",
    "- __ARPPU__ (средний доход на платящего пользователя: Число повторных покупок * Средний чек(доход / число покупок))\n",
    "- __ARPU__ (средний доход с пользователя: CR * ARPPU)"
   ]
  },
  {
   "cell_type": "code",
   "execution_count": 17,
   "metadata": {},
   "outputs": [],
   "source": [
    "# Собраны пользователи, которые зашли на платформу в дни проведения эксперимента + данные об оплате.\n",
    "# Те, кто не производил покупку внесены в rev, как Nan.\n",
    "experiment_df = groups_df[groups_df.id.isin(active_studs_df.id)].merge(checks_df, on='id', how='left')"
   ]
  },
  {
   "cell_type": "code",
   "execution_count": 18,
   "metadata": {},
   "outputs": [
    {
     "data": {
      "text/html": [
       "<div>\n",
       "<style scoped>\n",
       "    .dataframe tbody tr th:only-of-type {\n",
       "        vertical-align: middle;\n",
       "    }\n",
       "\n",
       "    .dataframe tbody tr th {\n",
       "        vertical-align: top;\n",
       "    }\n",
       "\n",
       "    .dataframe thead th {\n",
       "        text-align: right;\n",
       "    }\n",
       "</style>\n",
       "<table border=\"1\" class=\"dataframe\">\n",
       "  <thead>\n",
       "    <tr style=\"text-align: right;\">\n",
       "      <th></th>\n",
       "      <th>id</th>\n",
       "      <th>grp</th>\n",
       "      <th>rev</th>\n",
       "    </tr>\n",
       "  </thead>\n",
       "  <tbody>\n",
       "    <tr>\n",
       "      <th>0</th>\n",
       "      <td>1627</td>\n",
       "      <td>A</td>\n",
       "      <td>990.0</td>\n",
       "    </tr>\n",
       "    <tr>\n",
       "      <th>1</th>\n",
       "      <td>2085</td>\n",
       "      <td>B</td>\n",
       "      <td>NaN</td>\n",
       "    </tr>\n",
       "    <tr>\n",
       "      <th>2</th>\n",
       "      <td>2215</td>\n",
       "      <td>B</td>\n",
       "      <td>NaN</td>\n",
       "    </tr>\n",
       "    <tr>\n",
       "      <th>3</th>\n",
       "      <td>3391</td>\n",
       "      <td>A</td>\n",
       "      <td>NaN</td>\n",
       "    </tr>\n",
       "    <tr>\n",
       "      <th>4</th>\n",
       "      <td>3401</td>\n",
       "      <td>B</td>\n",
       "      <td>NaN</td>\n",
       "    </tr>\n",
       "  </tbody>\n",
       "</table>\n",
       "</div>"
      ],
      "text/plain": [
       "     id grp    rev\n",
       "0  1627   A  990.0\n",
       "1  2085   B    NaN\n",
       "2  2215   B    NaN\n",
       "3  3391   A    NaN\n",
       "4  3401   B    NaN"
      ]
     },
     "execution_count": 18,
     "metadata": {},
     "output_type": "execute_result"
    }
   ],
   "source": [
    "experiment_df.head()"
   ]
  },
  {
   "cell_type": "code",
   "execution_count": 19,
   "metadata": {},
   "outputs": [
    {
     "name": "stdout",
     "output_type": "stream",
     "text": [
      "<class 'pandas.core.frame.DataFrame'>\n",
      "Int64Index: 8328 entries, 0 to 8327\n",
      "Data columns (total 3 columns):\n",
      " #   Column  Non-Null Count  Dtype  \n",
      "---  ------  --------------  -----  \n",
      " 0   id      8328 non-null   int64  \n",
      " 1   grp     8328 non-null   object \n",
      " 2   rev     391 non-null    float64\n",
      "dtypes: float64(1), int64(1), object(1)\n",
      "memory usage: 260.2+ KB\n"
     ]
    }
   ],
   "source": [
    "experiment_df.info()"
   ]
  },
  {
   "cell_type": "markdown",
   "metadata": {},
   "source": [
    "### 1.3 Создаем таблицу с метриками"
   ]
  },
  {
   "cell_type": "markdown",
   "metadata": {},
   "source": [
    "#### 1.3.1 Конверсии (CR)"
   ]
  },
  {
   "cell_type": "code",
   "execution_count": 20,
   "metadata": {},
   "outputs": [],
   "source": [
    "# Расчет конверсии для пользователей из группы А \n",
    "CR_A = experiment_df.query('grp == \"A\"').rev.count() / experiment_df.query('grp == \"A\"').id.count()\n",
    "\n",
    "# Расчет конверсии для пользователей из группы В \n",
    "CR_B = experiment_df.query('grp == \"B\"').rev.count() / experiment_df.query('grp == \"B\"').id.count()"
   ]
  },
  {
   "cell_type": "markdown",
   "metadata": {},
   "source": [
    "#### 1.3.2 Средний чек (ARPPU, т.к. число повторных покупок = 1)"
   ]
  },
  {
   "cell_type": "code",
   "execution_count": 21,
   "metadata": {},
   "outputs": [
    {
     "data": {
      "text/plain": [
       "<seaborn.axisgrid.FacetGrid at 0x7efed02b5ef0>"
      ]
     },
     "execution_count": 21,
     "metadata": {},
     "output_type": "execute_result"
    },
    {
     "data": {
      "image/png": "[encoded data removed]",
      "text/plain": [
       "<Figure size 360x360 with 1 Axes>"
      ]
     },
     "metadata": {
      "needs_background": "light"
     },
     "output_type": "display_data"
    },
    {
     "data": {
      "image/png": "[encoded data removed]",
      "text/plain": [
       "<Figure size 360x360 with 1 Axes>"
      ]
     },
     "metadata": {
      "needs_background": "light"
     },
     "output_type": "display_data"
    }
   ],
   "source": [
    "# Оценим распределения rev\n",
    "sns.displot(experiment_df.query('grp == \"A\"').dropna().rev)\n",
    "sns.displot(experiment_df.query('grp == \"B\"').dropna().rev)"
   ]
  },
  {
   "cell_type": "code",
   "execution_count": 22,
   "metadata": {},
   "outputs": [],
   "source": [
    "# Расчет ARPPU для пользователей из группы А, возьмем медиану, т.к. в данных присутствуют выбросы   \n",
    "ARPPU_A = experiment_df.query('grp == \"A\"').rev.mean()\n",
    "\n",
    "# Расчет ARPPU для пользователей из группы В, возьмем медиану, т.к. в данных присутствуют выбросы   \n",
    "ARPPU_B = experiment_df.query('grp == \"B\"').rev.mean()"
   ]
  },
  {
   "cell_type": "markdown",
   "metadata": {},
   "source": [
    "#### 1.3.3 Создаем таблицу метрик"
   ]
  },
  {
   "cell_type": "code",
   "execution_count": 23,
   "metadata": {},
   "outputs": [],
   "source": [
    "data = [[CR_A, CR_B, ARPPU_A, ARPPU_B]]"
   ]
  },
  {
   "cell_type": "code",
   "execution_count": 24,
   "metadata": {},
   "outputs": [],
   "source": [
    "metrics_df = pd.DataFrame(data, columns=['CR_A', 'CR_B', 'ARPPU_A', 'ARPPU_B'])"
   ]
  },
  {
   "cell_type": "code",
   "execution_count": 25,
   "metadata": {},
   "outputs": [
    {
     "data": {
      "text/html": [
       "<div>\n",
       "<style scoped>\n",
       "    .dataframe tbody tr th:only-of-type {\n",
       "        vertical-align: middle;\n",
       "    }\n",
       "\n",
       "    .dataframe tbody tr th {\n",
       "        vertical-align: top;\n",
       "    }\n",
       "\n",
       "    .dataframe thead th {\n",
       "        text-align: right;\n",
       "    }\n",
       "</style>\n",
       "<table border=\"1\" class=\"dataframe\">\n",
       "  <thead>\n",
       "    <tr style=\"text-align: right;\">\n",
       "      <th></th>\n",
       "      <th>CR_A</th>\n",
       "      <th>CR_B</th>\n",
       "      <th>ARPPU_A</th>\n",
       "      <th>ARPPU_B</th>\n",
       "    </tr>\n",
       "  </thead>\n",
       "  <tbody>\n",
       "    <tr>\n",
       "      <th>0</th>\n",
       "      <td>0.050814</td>\n",
       "      <td>0.046077</td>\n",
       "      <td>933.589744</td>\n",
       "      <td>1255.827487</td>\n",
       "    </tr>\n",
       "  </tbody>\n",
       "</table>\n",
       "</div>"
      ],
      "text/plain": [
       "       CR_A      CR_B     ARPPU_A      ARPPU_B\n",
       "0  0.050814  0.046077  933.589744  1255.827487"
      ]
     },
     "execution_count": 25,
     "metadata": {},
     "output_type": "execute_result"
    }
   ],
   "source": [
    "metrics_df"
   ]
  },
  {
   "cell_type": "markdown",
   "metadata": {},
   "source": [
    "#### 1.3.4 ARPU (Средний доход с пользователя)"
   ]
  },
  {
   "cell_type": "code",
   "execution_count": 26,
   "metadata": {},
   "outputs": [],
   "source": [
    "metrics_df = metrics_df.assign(ARPU_A=round(metrics_df.CR_A * metrics_df.ARPPU_A, 2))\n",
    "metrics_df = metrics_df.assign(ARPU_B=round(metrics_df.CR_B * metrics_df.ARPPU_B, 2))"
   ]
  },
  {
   "cell_type": "code",
   "execution_count": 27,
   "metadata": {},
   "outputs": [],
   "source": [
    "metrics_df = metrics_df.assign(CR_dif=round(metrics_df.CR_B / metrics_df.CR_A, 2))\n",
    "metrics_df = metrics_df.assign(ARPPU_dif=round(metrics_df.ARPPU_B / metrics_df.ARPPU_A, 2))\n",
    "metrics_df = metrics_df.assign(ARPU_dif=round(metrics_df.ARPU_B / metrics_df.ARPU_A, 2))"
   ]
  },
  {
   "cell_type": "code",
   "execution_count": 28,
   "metadata": {},
   "outputs": [
    {
     "data": {
      "text/html": [
       "<div>\n",
       "<style scoped>\n",
       "    .dataframe tbody tr th:only-of-type {\n",
       "        vertical-align: middle;\n",
       "    }\n",
       "\n",
       "    .dataframe tbody tr th {\n",
       "        vertical-align: top;\n",
       "    }\n",
       "\n",
       "    .dataframe thead th {\n",
       "        text-align: right;\n",
       "    }\n",
       "</style>\n",
       "<table border=\"1\" class=\"dataframe\">\n",
       "  <thead>\n",
       "    <tr style=\"text-align: right;\">\n",
       "      <th></th>\n",
       "      <th>CR_A</th>\n",
       "      <th>CR_B</th>\n",
       "      <th>ARPPU_A</th>\n",
       "      <th>ARPPU_B</th>\n",
       "      <th>ARPU_A</th>\n",
       "      <th>ARPU_B</th>\n",
       "      <th>CR_dif</th>\n",
       "      <th>ARPPU_dif</th>\n",
       "      <th>ARPU_dif</th>\n",
       "    </tr>\n",
       "  </thead>\n",
       "  <tbody>\n",
       "    <tr>\n",
       "      <th>0</th>\n",
       "      <td>0.050814</td>\n",
       "      <td>0.046077</td>\n",
       "      <td>933.589744</td>\n",
       "      <td>1255.827487</td>\n",
       "      <td>47.44</td>\n",
       "      <td>57.86</td>\n",
       "      <td>0.91</td>\n",
       "      <td>1.35</td>\n",
       "      <td>1.22</td>\n",
       "    </tr>\n",
       "  </tbody>\n",
       "</table>\n",
       "</div>"
      ],
      "text/plain": [
       "       CR_A      CR_B     ARPPU_A      ARPPU_B  ARPU_A  ARPU_B  CR_dif  \\\n",
       "0  0.050814  0.046077  933.589744  1255.827487   47.44   57.86    0.91   \n",
       "\n",
       "   ARPPU_dif  ARPU_dif  \n",
       "0       1.35      1.22  "
      ]
     },
     "execution_count": 28,
     "metadata": {},
     "output_type": "execute_result"
    }
   ],
   "source": [
    "metrics_df.head()"
   ]
  },
  {
   "cell_type": "markdown",
   "metadata": {},
   "source": [
    "#### Промежуточный вывод\n",
    "Анализ среднего дохода с пользователя показал, что наблюдается прирост в метрике в 1.35 раз. Для того, чтобы определить, являются ли данные изменения статзначимыми, а не случайными флуктуациями, проведем А/В по составаляющим метрики:\n",
    "- конверсии;\n",
    "- среднему доходу на платящего пользователя ~ среднему чеку."
   ]
  },
  {
   "cell_type": "markdown",
   "metadata": {},
   "source": [
    "### 1.4 Расчет уровня значимости P-value"
   ]
  },
  {
   "cell_type": "code",
   "execution_count": 29,
   "metadata": {},
   "outputs": [
    {
     "data": {
      "text/html": [
       "<div>\n",
       "<style scoped>\n",
       "    .dataframe tbody tr th:only-of-type {\n",
       "        vertical-align: middle;\n",
       "    }\n",
       "\n",
       "    .dataframe tbody tr th {\n",
       "        vertical-align: top;\n",
       "    }\n",
       "\n",
       "    .dataframe thead th {\n",
       "        text-align: right;\n",
       "    }\n",
       "</style>\n",
       "<table border=\"1\" class=\"dataframe\">\n",
       "  <thead>\n",
       "    <tr style=\"text-align: right;\">\n",
       "      <th></th>\n",
       "      <th>id</th>\n",
       "      <th>grp</th>\n",
       "      <th>rev</th>\n",
       "    </tr>\n",
       "  </thead>\n",
       "  <tbody>\n",
       "    <tr>\n",
       "      <th>0</th>\n",
       "      <td>1627</td>\n",
       "      <td>A</td>\n",
       "      <td>990.0000</td>\n",
       "    </tr>\n",
       "    <tr>\n",
       "      <th>1</th>\n",
       "      <td>100300</td>\n",
       "      <td>B</td>\n",
       "      <td>990.0000</td>\n",
       "    </tr>\n",
       "    <tr>\n",
       "      <th>2</th>\n",
       "      <td>108270</td>\n",
       "      <td>B</td>\n",
       "      <td>290.0000</td>\n",
       "    </tr>\n",
       "    <tr>\n",
       "      <th>3</th>\n",
       "      <td>264473</td>\n",
       "      <td>B</td>\n",
       "      <td>1900.0001</td>\n",
       "    </tr>\n",
       "    <tr>\n",
       "      <th>4</th>\n",
       "      <td>274352</td>\n",
       "      <td>B</td>\n",
       "      <td>690.0000</td>\n",
       "    </tr>\n",
       "  </tbody>\n",
       "</table>\n",
       "</div>"
      ],
      "text/plain": [
       "       id grp        rev\n",
       "0    1627   A   990.0000\n",
       "1  100300   B   990.0000\n",
       "2  108270   B   290.0000\n",
       "3  264473   B  1900.0001\n",
       "4  274352   B   690.0000"
      ]
     },
     "execution_count": 29,
     "metadata": {},
     "output_type": "execute_result"
    }
   ],
   "source": [
    "# Создаем таблицу для теста, в которой присутствуют только активные пользователи из тестируемых групп,\n",
    "# которые произвели оплату.\n",
    "experiment_test_df = experiment_df.copy().dropna().reset_index(drop=True)\n",
    "experiment_test_df.head()"
   ]
  },
  {
   "cell_type": "markdown",
   "metadata": {},
   "source": [
    "#### 1.4.1 A/A-test"
   ]
  },
  {
   "cell_type": "markdown",
   "metadata": {},
   "source": [
    "Так как, исходя из условия задачи, предоставлены данные об оплате по группам пользователей А (без новой мехники оплаты) и В (с новой механикой оплаты), которые были зафиксированы после внедрения тестируемого воздействия (новая механика оплаты), то мы не можем провести А/А тест для оценки сплитования групп."
   ]
  },
  {
   "cell_type": "markdown",
   "metadata": {},
   "source": [
    "#### 1.4.2 Еще раз посмотрим на картину распределения"
   ]
  },
  {
   "cell_type": "code",
   "execution_count": 30,
   "metadata": {},
   "outputs": [
    {
     "data": {
      "text/plain": [
       "<Figure size 1800x576 with 0 Axes>"
      ]
     },
     "metadata": {},
     "output_type": "display_data"
    },
    {
     "data": {
      "image/png": "[encoded data removed]",
      "text/plain": [
       "<Figure size 360x360 with 1 Axes>"
      ]
     },
     "metadata": {},
     "output_type": "display_data"
    },
    {
     "data": {
      "text/plain": [
       "<Figure size 1800x576 with 0 Axes>"
      ]
     },
     "metadata": {},
     "output_type": "display_data"
    },
    {
     "data": {
      "image/png": "[encoded data removed]",
      "text/plain": [
       "<Figure size 360x360 with 1 Axes>"
      ]
     },
     "metadata": {},
     "output_type": "display_data"
    }
   ],
   "source": [
    "for group in experiment_test_df.grp.unique():\n",
    "    plt.figure(figsize=(25, 8))\n",
    "    sns.set_style(\"white\")\n",
    "    sns.displot(experiment_test_df.query('grp == @group').rev, kde=False, label=group)\n",
    "    plt.legend()\n",
    "    plt.grid()\n",
    "plt.show()"
   ]
  },
  {
   "cell_type": "code",
   "execution_count": 31,
   "metadata": {},
   "outputs": [
    {
     "data": {
      "text/html": [
       "<div>\n",
       "<style scoped>\n",
       "    .dataframe tbody tr th:only-of-type {\n",
       "        vertical-align: middle;\n",
       "    }\n",
       "\n",
       "    .dataframe tbody tr th {\n",
       "        vertical-align: top;\n",
       "    }\n",
       "\n",
       "    .dataframe thead tr th {\n",
       "        text-align: left;\n",
       "    }\n",
       "</style>\n",
       "<table border=\"1\" class=\"dataframe\">\n",
       "  <thead>\n",
       "    <tr>\n",
       "      <th></th>\n",
       "      <th>grp</th>\n",
       "      <th colspan=\"2\" halign=\"left\">rev</th>\n",
       "      <th>id</th>\n",
       "    </tr>\n",
       "    <tr>\n",
       "      <th></th>\n",
       "      <th></th>\n",
       "      <th>mean</th>\n",
       "      <th>median</th>\n",
       "      <th>count</th>\n",
       "    </tr>\n",
       "  </thead>\n",
       "  <tbody>\n",
       "    <tr>\n",
       "      <th>0</th>\n",
       "      <td>A</td>\n",
       "      <td>933.589744</td>\n",
       "      <td>585.0</td>\n",
       "      <td>78</td>\n",
       "    </tr>\n",
       "    <tr>\n",
       "      <th>1</th>\n",
       "      <td>B</td>\n",
       "      <td>1255.827487</td>\n",
       "      <td>1140.0</td>\n",
       "      <td>313</td>\n",
       "    </tr>\n",
       "  </tbody>\n",
       "</table>\n",
       "</div>"
      ],
      "text/plain": [
       "  grp          rev            id\n",
       "              mean  median count\n",
       "0   A   933.589744   585.0    78\n",
       "1   B  1255.827487  1140.0   313"
      ]
     },
     "execution_count": 31,
     "metadata": {},
     "output_type": "execute_result"
    }
   ],
   "source": [
    "# Посмотрим на значения среднего, медианы и количество пользователей в каждой из выборок.\n",
    "experiment_test_df.groupby('grp', as_index=False) \\\n",
    ".agg({'rev': ['mean', 'median'], 'id': 'count'})"
   ]
  },
  {
   "cell_type": "code",
   "execution_count": 32,
   "metadata": {},
   "outputs": [
    {
     "data": {
      "text/plain": [
       "290.0     25\n",
       "580.0      6\n",
       "990.0      5\n",
       "590.0      5\n",
       "199.0      5\n",
       "690.0      4\n",
       "840.0      3\n",
       "3660.0     3\n",
       "1530.0     3\n",
       "1160.0     2\n",
       "1140.0     2\n",
       "2820.0     2\n",
       "489.0      2\n",
       "2910.0     2\n",
       "2900.0     1\n",
       "1830.0     1\n",
       "2220.0     1\n",
       "1980.0     1\n",
       "870.0      1\n",
       "398.0      1\n",
       "2890.0     1\n",
       "1180.0     1\n",
       "1039.0     1\n",
       "Name: rev, dtype: int64"
      ]
     },
     "execution_count": 32,
     "metadata": {},
     "output_type": "execute_result"
    }
   ],
   "source": [
    "experiment_test_df.query('grp == \"A\"').rev.value_counts()"
   ]
  },
  {
   "cell_type": "code",
   "execution_count": 33,
   "metadata": {},
   "outputs": [
    {
     "data": {
      "text/plain": [
       "1900.0000    92\n",
       "290.0000     45\n",
       "1900.0001    35\n",
       "199.0000     27\n",
       "840.0000     21\n",
       "990.0000     17\n",
       "690.0000     13\n",
       "1140.0000     9\n",
       "398.0000      6\n",
       "590.0000      6\n",
       "1530.0000     5\n",
       "580.0000      5\n",
       "870.0000      5\n",
       "2099.0000     3\n",
       "2890.0000     3\n",
       "1980.0000     2\n",
       "2910.0000     2\n",
       "3660.0000     2\n",
       "1968.0000     1\n",
       "880.0000      1\n",
       "3040.0000     1\n",
       "796.0000      1\n",
       "2190.0000     1\n",
       "1160.0000     1\n",
       "1729.0000     1\n",
       "2220.0000     1\n",
       "4650.0000     1\n",
       "1339.0000     1\n",
       "1388.0000     1\n",
       "489.0000      1\n",
       "3260.0000     1\n",
       "1050.0000     1\n",
       "597.0000      1\n",
       "Name: rev, dtype: int64"
      ]
     },
     "execution_count": 33,
     "metadata": {},
     "output_type": "execute_result"
    }
   ],
   "source": [
    "experiment_test_df.query('grp == \"B\"').rev.value_counts()"
   ]
  },
  {
   "cell_type": "markdown",
   "metadata": {},
   "source": [
    "__Промежуточный вывод__:\n",
    "\n",
    "Так как распределение наших выборок имеет не нормальный, ассимитричный вид с выбросами попробуем привести их к более нормальному виду посредством логарифмирования для того, чтобы провести более корректный t-test."
   ]
  },
  {
   "cell_type": "markdown",
   "metadata": {},
   "source": [
    "#### 1.4.3 Распредления с логарифмироваными данными"
   ]
  },
  {
   "cell_type": "code",
   "execution_count": 34,
   "metadata": {},
   "outputs": [],
   "source": [
    "experiment_test_log_df = experiment_test_df.copy()"
   ]
  },
  {
   "cell_type": "code",
   "execution_count": 35,
   "metadata": {},
   "outputs": [],
   "source": [
    "experiment_test_log_df.rev = experiment_test_log_df.rev.apply(np.log)"
   ]
  },
  {
   "cell_type": "code",
   "execution_count": 36,
   "metadata": {},
   "outputs": [
    {
     "data": {
      "text/plain": [
       "<Figure size 1800x576 with 0 Axes>"
      ]
     },
     "metadata": {},
     "output_type": "display_data"
    },
    {
     "data": {
      "image/png": "[encoded data removed]",
      "text/plain": [
       "<Figure size 360x360 with 1 Axes>"
      ]
     },
     "metadata": {},
     "output_type": "display_data"
    },
    {
     "data": {
      "text/plain": [
       "<Figure size 1800x576 with 0 Axes>"
      ]
     },
     "metadata": {},
     "output_type": "display_data"
    },
    {
     "data": {
      "image/png": "[encoded data removed]",
      "text/plain": [
       "<Figure size 360x360 with 1 Axes>"
      ]
     },
     "metadata": {},
     "output_type": "display_data"
    }
   ],
   "source": [
    "for group in experiment_test_log_df.grp.unique():\n",
    "    plt.figure(figsize=(25, 8))\n",
    "    sns.set_style(\"white\")\n",
    "    sns.displot(experiment_test_log_df.query('grp == @group').rev, kde=True, label=group)\n",
    "    plt.legend()\n",
    "    plt.grid()\n",
    "plt.show()"
   ]
  },
  {
   "cell_type": "markdown",
   "metadata": {},
   "source": [
    "#### 1.4.4 Проверка на нормальность выборок из ГС"
   ]
  },
  {
   "cell_type": "markdown",
   "metadata": {},
   "source": [
    "##### Тест группы А"
   ]
  },
  {
   "cell_type": "code",
   "execution_count": 37,
   "metadata": {},
   "outputs": [
    {
     "data": {
      "text/plain": [
       "ShapiroResult(statistic=0.7353236079216003, pvalue=1.4986822893803264e-10)"
      ]
     },
     "execution_count": 37,
     "metadata": {},
     "output_type": "execute_result"
    }
   ],
   "source": [
    "ss.shapiro(experiment_test_df.query('grp == \"A\"').rev)"
   ]
  },
  {
   "cell_type": "code",
   "execution_count": 38,
   "metadata": {},
   "outputs": [
    {
     "data": {
      "image/png": "[encoded data removed]",
      "text/plain": [
       "<Figure size 432x288 with 1 Axes>"
      ]
     },
     "execution_count": 38,
     "metadata": {},
     "output_type": "execute_result"
    },
    {
     "data": {
      "image/png": "[encoded data removed]",
      "text/plain": [
       "<Figure size 432x288 with 1 Axes>"
      ]
     },
     "metadata": {},
     "output_type": "display_data"
    }
   ],
   "source": [
    "sm.qqplot(experiment_test_df.query('grp == \"A\"').rev, line='r')"
   ]
  },
  {
   "cell_type": "markdown",
   "metadata": {},
   "source": [
    "##### Тест группы B"
   ]
  },
  {
   "cell_type": "code",
   "execution_count": 39,
   "metadata": {},
   "outputs": [
    {
     "data": {
      "text/plain": [
       "ShapiroResult(statistic=0.8551987409591675, pvalue=1.756778758085431e-16)"
      ]
     },
     "execution_count": 39,
     "metadata": {},
     "output_type": "execute_result"
    }
   ],
   "source": [
    "ss.shapiro(experiment_test_df.query('grp == \"B\"').rev)"
   ]
  },
  {
   "cell_type": "code",
   "execution_count": 40,
   "metadata": {},
   "outputs": [
    {
     "data": {
      "image/png": "[encoded data removed]",
      "text/plain": [
       "<Figure size 432x288 with 1 Axes>"
      ]
     },
     "execution_count": 40,
     "metadata": {},
     "output_type": "execute_result"
    },
    {
     "data": {
      "image/png": "[encoded data removed]",
      "text/plain": [
       "<Figure size 432x288 with 1 Axes>"
      ]
     },
     "metadata": {},
     "output_type": "display_data"
    }
   ],
   "source": [
    "sm.qqplot(experiment_test_df.query('grp == \"B\"').rev, line='r')"
   ]
  },
  {
   "cell_type": "markdown",
   "metadata": {},
   "source": [
    "##### Боксплот"
   ]
  },
  {
   "cell_type": "code",
   "execution_count": 41,
   "metadata": {},
   "outputs": [
    {
     "data": {
      "text/plain": [
       "<matplotlib.legend.Legend at 0x7efecda63780>"
      ]
     },
     "execution_count": 41,
     "metadata": {},
     "output_type": "execute_result"
    },
    {
     "data": {
      "image/png": "[encoded data removed]",
      "text/plain": [
       "<Figure size 432x288 with 1 Axes>"
      ]
     },
     "metadata": {},
     "output_type": "display_data"
    }
   ],
   "source": [
    "sns.boxplot(data=experiment_test_df, x='grp', y='rev', hue='grp')\n",
    "plt.title('Величина показателя доходности в зависимости от исследуемой группы')\n",
    "plt.xlabel('Группа')\n",
    "plt.ylabel('Доходность')\n",
    "plt.legend(title='Группа')"
   ]
  },
  {
   "cell_type": "markdown",
   "metadata": {},
   "source": [
    "__Промежуточный вывод__:\n",
    "\n",
    "Так как, полученные распределения являются не нормальными, ассиметричными и с выбросами, несмотря на применение логарифмирования, а также, то что размеры выборок малы, проведение *t-test'a* не представляется целесообразным. \n",
    "\n",
    "Учитывая, что *t-test* не требует одиннакового количества наблюдений в выборках и нормальное распределение признака, однако для таких случаев должно быть достаточно большое количество наблюдений. В нашем случае, мы имеем небольшой объем выборки __(78 - А, 313 - В)__, что в совокупности с результатами проведенного теста *Шапиро-Уилка* и выбросами делает __t-критерий не предпочтительным для получения адекватных значений__.\n",
    "\n",
    "__Критерий Манна-Уитни__ подходит для решения задачи, ведь он менее подвержен влиянию разбросов, ненормальности распределения и малого объема выборки. Однако, есть проблема интерпретируемости результатов. С помощью критерия *Манна-Уитни* мы проверяем нулевую гипотезу о равенстве распределений. \n",
    "\n",
    "В нашем же случае, интересно протестировать гипотезу о __равенстве глобальной метрики ARPPU__, к тому же использовать метод, который проверяет статистические гипотезы без опоры на определённое теоретическое распределение данных. Поэтому, допуская, что предоставленные выборки репрезентативны и отражают ГС - возьмем за основной способ проверки __bootstrap__ и в качестве статистики используем *mean*, т.к. она рассчитывается, как (доход/ кол-во пользователей, совершивших покупку).\n",
    "\n",
    "Тестирование проводится для гипотез:\n",
    "\n",
    "- __H0__ - изменение механики оплаты не сказалось на метрике ARPPU;\n",
    "- __H1__ - изменение механики оплаты сказалось на ключевой метрике ARPPU."
   ]
  },
  {
   "cell_type": "markdown",
   "metadata": {},
   "source": [
    "#### 1.4.5 Тестирование среднего чека (ARPPU)"
   ]
  },
  {
   "cell_type": "markdown",
   "metadata": {},
   "source": [
    "##### U-test"
   ]
  },
  {
   "cell_type": "code",
   "execution_count": 42,
   "metadata": {},
   "outputs": [
    {
     "data": {
      "text/plain": [
       "MannwhitneyuResult(statistic=15424.0, pvalue=0.000273244700505943)"
      ]
     },
     "execution_count": 42,
     "metadata": {},
     "output_type": "execute_result"
    }
   ],
   "source": [
    "ss.mannwhitneyu(experiment_test_df.query('grp == \"B\"').rev, experiment_test_df.query('grp == \"A\"').rev)"
   ]
  },
  {
   "cell_type": "markdown",
   "metadata": {},
   "source": [
    "##### Bootstrap"
   ]
  },
  {
   "cell_type": "code",
   "execution_count": 43,
   "metadata": {},
   "outputs": [
    {
     "data": {
      "application/vnd.jupyter.widget-view+json": {
       "model_id": "f76f06c631ec4890bd7b1c9761de24eb",
       "version_major": 2,
       "version_minor": 0
      },
      "text/plain": [
       "HBox(children=(FloatProgress(value=0.0, max=10000.0), HTML(value='')))"
      ]
     },
     "metadata": {},
     "output_type": "display_data"
    },
    {
     "name": "stdout",
     "output_type": "stream",
     "text": [
      "\n"
     ]
    },
    {
     "data": {
      "image/png": "[encoded data removed]",
      "text/plain": [
       "<Figure size 432x288 with 1 Axes>"
      ]
     },
     "metadata": {},
     "output_type": "display_data"
    }
   ],
   "source": [
    "booted_data = get_bootstrap(experiment_test_df.query('grp == \"A\"').rev, experiment_test_df.query('grp == \"B\"').rev) "
   ]
  },
  {
   "cell_type": "code",
   "execution_count": 44,
   "metadata": {},
   "outputs": [
    {
     "data": {
      "text/plain": [
       "0.0193364253807372"
      ]
     },
     "execution_count": 44,
     "metadata": {},
     "output_type": "execute_result"
    }
   ],
   "source": [
    "booted_data['p_value']"
   ]
  },
  {
   "cell_type": "markdown",
   "metadata": {},
   "source": [
    "#### Вывод\n",
    "Полученные значения p-value ниже порога статзначимости 0.05 (0.017 < 0.05). \n",
    "Cоответственно мы отвергаем H0 и считаем, что примененные изменения в механике оплаты действительно привели к статзначимым изменениям в среднем чеке пользователя. \n",
    "\n",
    "Вероятность получить такие или еще более значимые отклонения при условии, что H0 верна равно 0.017."
   ]
  },
  {
   "cell_type": "markdown",
   "metadata": {},
   "source": [
    "#### 1.4.6 Тестирование конверсии в покупку (CR)"
   ]
  },
  {
   "cell_type": "code",
   "execution_count": 45,
   "metadata": {},
   "outputs": [],
   "source": [
    "experiment_df = experiment_df.fillna(0)"
   ]
  },
  {
   "cell_type": "code",
   "execution_count": 46,
   "metadata": {},
   "outputs": [],
   "source": [
    "# Создаем колонку с данными купил(1)/ не купил (0)\n",
    "experiment_df['purchases'] = experiment_df.rev.apply(lambda x: 1 if x != 0 else 0)"
   ]
  },
  {
   "cell_type": "code",
   "execution_count": 47,
   "metadata": {},
   "outputs": [
    {
     "data": {
      "text/html": [
       "<div>\n",
       "<style scoped>\n",
       "    .dataframe tbody tr th:only-of-type {\n",
       "        vertical-align: middle;\n",
       "    }\n",
       "\n",
       "    .dataframe tbody tr th {\n",
       "        vertical-align: top;\n",
       "    }\n",
       "\n",
       "    .dataframe thead th {\n",
       "        text-align: right;\n",
       "    }\n",
       "</style>\n",
       "<table border=\"1\" class=\"dataframe\">\n",
       "  <thead>\n",
       "    <tr style=\"text-align: right;\">\n",
       "      <th></th>\n",
       "      <th>id</th>\n",
       "      <th>grp</th>\n",
       "      <th>rev</th>\n",
       "      <th>purchases</th>\n",
       "    </tr>\n",
       "  </thead>\n",
       "  <tbody>\n",
       "    <tr>\n",
       "      <th>0</th>\n",
       "      <td>1627</td>\n",
       "      <td>A</td>\n",
       "      <td>990.0</td>\n",
       "      <td>1</td>\n",
       "    </tr>\n",
       "    <tr>\n",
       "      <th>1</th>\n",
       "      <td>2085</td>\n",
       "      <td>B</td>\n",
       "      <td>0.0</td>\n",
       "      <td>0</td>\n",
       "    </tr>\n",
       "    <tr>\n",
       "      <th>2</th>\n",
       "      <td>2215</td>\n",
       "      <td>B</td>\n",
       "      <td>0.0</td>\n",
       "      <td>0</td>\n",
       "    </tr>\n",
       "    <tr>\n",
       "      <th>3</th>\n",
       "      <td>3391</td>\n",
       "      <td>A</td>\n",
       "      <td>0.0</td>\n",
       "      <td>0</td>\n",
       "    </tr>\n",
       "    <tr>\n",
       "      <th>4</th>\n",
       "      <td>3401</td>\n",
       "      <td>B</td>\n",
       "      <td>0.0</td>\n",
       "      <td>0</td>\n",
       "    </tr>\n",
       "  </tbody>\n",
       "</table>\n",
       "</div>"
      ],
      "text/plain": [
       "     id grp    rev  purchases\n",
       "0  1627   A  990.0          1\n",
       "1  2085   B    0.0          0\n",
       "2  2215   B    0.0          0\n",
       "3  3391   A    0.0          0\n",
       "4  3401   B    0.0          0"
      ]
     },
     "execution_count": 47,
     "metadata": {},
     "output_type": "execute_result"
    }
   ],
   "source": [
    "experiment_df.head()"
   ]
  },
  {
   "cell_type": "code",
   "execution_count": 48,
   "metadata": {},
   "outputs": [
    {
     "data": {
      "text/plain": [
       "<Figure size 1800x576 with 0 Axes>"
      ]
     },
     "metadata": {},
     "output_type": "display_data"
    },
    {
     "data": {
      "image/png": "[encoded data removed]",
      "text/plain": [
       "<Figure size 360x360 with 1 Axes>"
      ]
     },
     "metadata": {},
     "output_type": "display_data"
    },
    {
     "data": {
      "text/plain": [
       "<Figure size 1800x576 with 0 Axes>"
      ]
     },
     "metadata": {},
     "output_type": "display_data"
    },
    {
     "data": {
      "image/png": "[encoded data removed]",
      "text/plain": [
       "<Figure size 360x360 with 1 Axes>"
      ]
     },
     "metadata": {},
     "output_type": "display_data"
    }
   ],
   "source": [
    "for group in experiment_df.grp.unique():\n",
    "    plt.figure(figsize=(25, 8))\n",
    "    sns.set_style(\"white\")\n",
    "    sns.displot(experiment_df.query('grp == @group').purchases, kde=False, label=group)\n",
    "    plt.legend()\n",
    "    plt.grid()\n",
    "plt.show()"
   ]
  },
  {
   "cell_type": "code",
   "execution_count": 49,
   "metadata": {},
   "outputs": [
    {
     "data": {
      "text/html": [
       "<div>\n",
       "<style scoped>\n",
       "    .dataframe tbody tr th:only-of-type {\n",
       "        vertical-align: middle;\n",
       "    }\n",
       "\n",
       "    .dataframe tbody tr th {\n",
       "        vertical-align: top;\n",
       "    }\n",
       "\n",
       "    .dataframe thead th {\n",
       "        text-align: right;\n",
       "    }\n",
       "</style>\n",
       "<table border=\"1\" class=\"dataframe\">\n",
       "  <thead>\n",
       "    <tr style=\"text-align: right;\">\n",
       "      <th></th>\n",
       "      <th>grp</th>\n",
       "      <th>CR</th>\n",
       "      <th>id_number</th>\n",
       "    </tr>\n",
       "  </thead>\n",
       "  <tbody>\n",
       "    <tr>\n",
       "      <th>0</th>\n",
       "      <td>A</td>\n",
       "      <td>0.050814</td>\n",
       "      <td>1535</td>\n",
       "    </tr>\n",
       "    <tr>\n",
       "      <th>1</th>\n",
       "      <td>B</td>\n",
       "      <td>0.046077</td>\n",
       "      <td>6793</td>\n",
       "    </tr>\n",
       "  </tbody>\n",
       "</table>\n",
       "</div>"
      ],
      "text/plain": [
       "  grp        CR  id_number\n",
       "0   A  0.050814       1535\n",
       "1   B  0.046077       6793"
      ]
     },
     "execution_count": 49,
     "metadata": {},
     "output_type": "execute_result"
    }
   ],
   "source": [
    "experiment_df.groupby('grp', as_index=False) \\\n",
    ".agg({'purchases': 'mean', 'id': 'count'}) \\\n",
    ".rename(columns={'purchases': 'CR', 'id': 'id_number'})"
   ]
  },
  {
   "cell_type": "markdown",
   "metadata": {},
   "source": [
    "__Промежуточный вывод__:\n",
    "Так как, purchases - это качественная (номинативная) переменная, то используем критерий __Хи-квадрат Пирсона__.\n",
    "\n",
    "Тестирование проводится для гипотез:\n",
    "\n",
    "- __H0__ - изменение механики оплаты не сказалось на метрике CR;\n",
    "- __H1__ - изменение механики оплаты сказалось на ключевой метрике CR."
   ]
  },
  {
   "cell_type": "markdown",
   "metadata": {},
   "source": [
    "##### Применение Хи-квадрат."
   ]
  },
  {
   "cell_type": "code",
   "execution_count": 50,
   "metadata": {},
   "outputs": [
    {
     "data": {
      "text/html": [
       "<div>\n",
       "<style scoped>\n",
       "    .dataframe tbody tr th:only-of-type {\n",
       "        vertical-align: middle;\n",
       "    }\n",
       "\n",
       "    .dataframe tbody tr th {\n",
       "        vertical-align: top;\n",
       "    }\n",
       "\n",
       "    .dataframe thead th {\n",
       "        text-align: right;\n",
       "    }\n",
       "</style>\n",
       "<table border=\"1\" class=\"dataframe\">\n",
       "  <thead>\n",
       "    <tr style=\"text-align: right;\">\n",
       "      <th>grp</th>\n",
       "      <th>A</th>\n",
       "      <th>B</th>\n",
       "    </tr>\n",
       "    <tr>\n",
       "      <th>purchases</th>\n",
       "      <th></th>\n",
       "      <th></th>\n",
       "    </tr>\n",
       "  </thead>\n",
       "  <tbody>\n",
       "    <tr>\n",
       "      <th>0</th>\n",
       "      <td>1457</td>\n",
       "      <td>6480</td>\n",
       "    </tr>\n",
       "    <tr>\n",
       "      <th>1</th>\n",
       "      <td>78</td>\n",
       "      <td>313</td>\n",
       "    </tr>\n",
       "  </tbody>\n",
       "</table>\n",
       "</div>"
      ],
      "text/plain": [
       "grp           A     B\n",
       "purchases            \n",
       "0          1457  6480\n",
       "1            78   313"
      ]
     },
     "execution_count": 50,
     "metadata": {},
     "output_type": "execute_result"
    }
   ],
   "source": [
    "pd.crosstab(experiment_df.purchases, experiment_df.grp)"
   ]
  },
  {
   "cell_type": "code",
   "execution_count": 51,
   "metadata": {},
   "outputs": [],
   "source": [
    "stat, p, dof, expected = ss.chi2_contingency(pd.crosstab(experiment_df.purchases, experiment_df.grp))"
   ]
  },
  {
   "cell_type": "code",
   "execution_count": 52,
   "metadata": {},
   "outputs": [
    {
     "data": {
      "text/plain": [
       "(0.526607176998989, 0.46803677583199144)"
      ]
     },
     "execution_count": 52,
     "metadata": {},
     "output_type": "execute_result"
    }
   ],
   "source": [
    "stat, p"
   ]
  },
  {
   "cell_type": "markdown",
   "metadata": {},
   "source": [
    "#### 1.4.6 Вывод\n",
    "Полученные значения p-value выше порога статзначимости 0.05 (0.47 > 0.05). \n",
    "Cоответственно мы не имеем достаточно оснований, чтобы отвергнуть H0 и считаем, что примененные изменения в механике оплаты не привели к статзначимым изменениям в конверсии пользователя в покупку."
   ]
  },
  {
   "cell_type": "markdown",
   "metadata": {},
   "source": [
    "### 1.5 Вывод:"
   ]
  },
  {
   "cell_type": "markdown",
   "metadata": {},
   "source": [
    "- CR - снижение показателя не статзначимо;\n",
    "- ARPPU - увеличение показателя статзначимо;\n",
    "- __Следовательно, ARPU увеличился в 1,35 раз не в результате случайных флуктуаций и новая механика оплаты действительно эффективна. Соответственно, можем распространять ее на всех остальных пользователей.__\n",
    "\n",
    "<br>\n",
    "\n",
    "__Однако, в качестве перестраховки, предлагаю опционально__:\n",
    "\n",
    "Обратить внимание на __систему сплитования__ в связи с  неравномерным распределением количества пользователей в каждой из выборок. Для этого, рекомендуется провести А/А тест или посмотреть на его результаты, если таковой имеется. \n",
    "\n",
    "В общем случае, разница в размере выборок это нормально, как для проведения тестов, так и для получения данных. Только по логике, распределение количества пользователей в большую сторону должно быть для группы А, т.к. в группу В заносятся новые пользователи и их значение чаще меньше, чем тех, кто уже был пользователем сервиса. Возможно тест крутили недостаточное количество времени, что участники группы А, в недостаточном количестве воспользовались сервисом.\n",
    "\n",
    "Если бы группа А была больше группы В, это вызвало бы меньше подозрений."
   ]
  },
  {
   "cell_type": "markdown",
   "metadata": {},
   "source": [
    "# Задание 2. SQL"
   ]
  },
  {
   "cell_type": "markdown",
   "metadata": {},
   "source": [
    "### 2.1.2 SQL-запрос, для вывода количества очень усердных студентов за март 2020 года"
   ]
  },
  {
   "cell_type": "code",
   "execution_count": 54,
   "metadata": {},
   "outputs": [
    {
     "data": {
      "text/plain": [
       "\"\\nSELECT\\n    start_month,\\n    COUNT(DISTINCT st_id) as HardStudentsNum\\nFROM\\n    (SELECT\\n        toStartOfMonth(timest) AS start_month,\\n        st_id,\\n        SUM(correct) AS CorrectAnsNum\\n    FROM\\n        default.peas\\n    WHERE\\n        correct = True \\n    GROUP BY\\n        start_month,\\n        st_id\\n    HAVING\\n        CorrectAnsNum >= 20)\\nWHERE\\n    start_month = '2020-03-01'\\nGROUP BY\\n    start_month\\nLIMIT 1000\\n\\n\""
      ]
     },
     "execution_count": 54,
     "metadata": {},
     "output_type": "execute_result"
    }
   ],
   "source": [
    "\"\"\"\n",
    "SELECT\n",
    "    start_month,\n",
    "    COUNT(DISTINCT st_id) as HardStudentsNum\n",
    "FROM\n",
    "    (SELECT\n",
    "        toStartOfMonth(timest) AS start_month,\n",
    "        st_id,\n",
    "        SUM(correct) AS CorrectAnsNum\n",
    "    FROM\n",
    "        default.peas\n",
    "    WHERE\n",
    "        correct = True \n",
    "    GROUP BY\n",
    "        start_month,\n",
    "        st_id\n",
    "    HAVING\n",
    "        CorrectAnsNum >= 20)\n",
    "WHERE\n",
    "    start_month = '2020-03-01'\n",
    "GROUP BY\n",
    "    start_month\n",
    "LIMIT 1000\n",
    "\n",
    "\"\"\""
   ]
  },
  {
   "cell_type": "markdown",
   "metadata": {},
   "source": [
    "__Полученный результат__\n",
    "\n",
    "Отсутствует, т.к. в БД нет данных по искомой дате."
   ]
  },
  {
   "cell_type": "markdown",
   "metadata": {},
   "source": [
    "### 2.2.2 Необходимо в одном запросе выгрузить следующую информацию о группах пользователей:\n",
    "- ARPU (доход / кол-во учеников)\n",
    "- ARPAU (доход / число активных пользователей *количество решенных задач > 10)\n",
    "- CR в покупку (число учеников, совершивших покупку / общему числу учеников, использующих сервис)\n",
    "- СR активного пользователя в покупку (число учеников, совершивших покупку / общему числу учеников, использующих сервис *количество решенных задач > 10)\n",
    "- CR пользователя из активности по математике (subject = ’math’) в покупку курса по математике (число учеников, совершивших покупку / общему числу учеников, использующих сервис *ученики отобраны по предмету \"math\" и количество решенных задач > 2)"
   ]
  },
  {
   "cell_type": "code",
   "execution_count": null,
   "metadata": {},
   "outputs": [],
   "source": [
    "\"\"\"\n",
    "SELECT\n",
    "    test_grp,\n",
    "    COUNT(st_id) AS total_st_id,\n",
    "    SUM(spent_money) AS total_spent_money,\n",
    "    total_spent_money / total_st_id AS ARPU,\n",
    "    total_spent_money / countIf(st_id, total_correct_answers > 10) AS ARPAU,\n",
    "    countIf(bought_st_id, spent_money != 0) AS bought_st_num,\n",
    "    countIf(bought_st_id, spent_money != 0 AND total_correct_answers > 10) AS bought_active_st_num,\n",
    "    countIf(bought_st_id, spent_money != 0 AND math_correct_answers >= 2) AS bought_active_math_st_num,\n",
    "    bought_st_num / total_st_id AS CR,\n",
    "    bought_active_st_num / total_st_id AS CR_active,\n",
    "    bought_active_math_st_num / total_st_id AS CR_math\n",
    "FROM\n",
    "    (SELECT\n",
    "        l.test_grp,\n",
    "        l.st_id,\n",
    "        l.bought_st_id,\n",
    "        l.spent_money,\n",
    "        r.total_correct_answers,\n",
    "        r.math_correct_answers\n",
    "    FROM\n",
    "        (SELECT\n",
    "            l.st_id AS st_id,\n",
    "            l.test_grp AS test_grp,\n",
    "            r.st_id AS bought_st_id,\n",
    "            r.spent_money\n",
    "        FROM\n",
    "            default.studs AS l\n",
    "        LEFT JOIN\n",
    "            (SELECT\n",
    "                st_id,\n",
    "                sum(money) AS spent_money\n",
    "            FROM\n",
    "                default.final_project_check\n",
    "            GROUP BY\n",
    "                st_id\n",
    "            ) AS r\n",
    "            ON l.st_id = r.st_id) AS l\n",
    "    \n",
    "    LEFT JOIN\n",
    "    \n",
    "        (SELECT\n",
    "            st_id,\n",
    "            SUM(correct) AS total_correct_answers,\n",
    "            sumIf(correct, subject = 'Math') AS math_correct_answers\n",
    "        FROM\n",
    "            default.peas\n",
    "        GROUP BY\n",
    "            st_id\n",
    "        LIMIT 1000) AS r\n",
    "        ON r.st_id=l.st_id)\n",
    "GROUP BY\n",
    "    test_grp\n",
    "\"\"\""
   ]
  },
  {
   "cell_type": "markdown",
   "metadata": {},
   "source": [
    "__Полученный результат__\n",
    "\n",
    "test_group    |total_st_id|total_spent_money|bought_st_num|bought_active_st_num|bought_active_math_st_num|ARPU | ARPAU | CR |CR_active| CR_active_math\n",
    "------------  |-----------|-----------------|-------------|--------------------|-----|---- | ------| ---| ------ | ------   \n",
    " control      |   305     | 1385000         |  15         |      14            |  5  |4541 | 10906 |0.05| 0.05   |  0.02\n",
    " pilot        |   295     | 3395000         |  32         |      25            |  6  |11508| 35365 |0.11| 0.08   |  0.02"
   ]
  },
  {
   "cell_type": "markdown",
   "metadata": {},
   "source": [
    "# Задание 3. Python"
   ]
  },
  {
   "cell_type": "markdown",
   "metadata": {},
   "source": [
    "### 3.1.1 Функция, которая будет автоматически подгружать информацию из дополнительного файла groups_add.csv (заголовки могут отличаться) и на основании дополнительных параметров пересчитывать метрики."
   ]
  },
  {
   "cell_type": "code",
   "execution_count": 61,
   "metadata": {},
   "outputs": [],
   "source": [
    "def update_data(old_group_file=None, new_group_file=None, active_studs_df=active_studs_df, checks_df=checks_df):\n",
    "    groups_df = pd.concat([old_group_file, new_group_file])\n",
    "    \n",
    "    experiment_df = groups_df[groups_df.id.isin(active_studs_df.id)].merge(checks_df, on='id', how='left')\n",
    "    \n",
    "    # Расчет конверсии для пользователей из группы А \n",
    "    CR_A = (experiment_df.query('grp == \"A\"').rev.count() / experiment_df.query('grp == \"A\"').id.count())\n",
    "\n",
    "    # Расчет конверсии для пользователей из группы В \n",
    "    CR_B = experiment_df.query('grp == \"B\"').rev.count() / experiment_df.query('grp == \"B\"').id.count()\n",
    "    \n",
    "    # Расчет ARPPU для пользователей из группы А, возьмем медиану, т.к. в данных присутствуют выбросы   \n",
    "    ARPPU_A = experiment_df.query('grp == \"A\"').rev.mean()\n",
    "\n",
    "    # Расчет ARPPU для пользователей из группы В, возьмем медиану, т.к. в данных присутствуют выбросы   \n",
    "    ARPPU_B = experiment_df.query('grp == \"B\"').rev.mean()\n",
    "    \n",
    "    # Создание датафрейма с метриками\n",
    "    data = [[CR_A, CR_B, ARPPU_A, ARPPU_B]]\n",
    "    metrics_df = pd.DataFrame(data, columns=['CR_A', 'CR_B', 'ARPPU_A', 'ARPPU_B'])\n",
    "    \n",
    "    # Дополнение датфрейма с метриками показателями ARPU\n",
    "    metrics_df = metrics_df.assign(ARPU_A=round(metrics_df.CR_A * metrics_df.ARPPU_A, 2))\n",
    "    metrics_df = metrics_df.assign(ARPU_B=round(metrics_df.CR_B * metrics_df.ARPPU_B, 2))\n",
    "    \n",
    "    # Дополнение датафрейма разницей в показателях между контрольной и тестовой группой\n",
    "    metrics_df = metrics_df.assign(CR_dif=round(metrics_df.CR_B / metrics_df.CR_A, 2))\n",
    "    metrics_df = metrics_df.assign(ARPPU_dif=round(metrics_df.ARPPU_B / metrics_df.ARPPU_A, 2))\n",
    "    metrics_df = metrics_df.assign(ARPU_dif=round(metrics_df.ARPU_B / metrics_df.ARPU_A, 2))\n",
    "    \n",
    "    return metrics_df"
   ]
  },
  {
   "cell_type": "code",
   "execution_count": 62,
   "metadata": {},
   "outputs": [],
   "source": [
    "updated_metrics_df = update_data(old_group_file=groups_df, new_group_file=group_add_df)"
   ]
  },
  {
   "cell_type": "code",
   "execution_count": 63,
   "metadata": {},
   "outputs": [
    {
     "data": {
      "text/html": [
       "<div>\n",
       "<style scoped>\n",
       "    .dataframe tbody tr th:only-of-type {\n",
       "        vertical-align: middle;\n",
       "    }\n",
       "\n",
       "    .dataframe tbody tr th {\n",
       "        vertical-align: top;\n",
       "    }\n",
       "\n",
       "    .dataframe thead th {\n",
       "        text-align: right;\n",
       "    }\n",
       "</style>\n",
       "<table border=\"1\" class=\"dataframe\">\n",
       "  <thead>\n",
       "    <tr style=\"text-align: right;\">\n",
       "      <th></th>\n",
       "      <th>CR_A</th>\n",
       "      <th>CR_B</th>\n",
       "      <th>ARPPU_A</th>\n",
       "      <th>ARPPU_B</th>\n",
       "      <th>ARPU_A</th>\n",
       "      <th>ARPU_B</th>\n",
       "      <th>CR_dif</th>\n",
       "      <th>ARPPU_dif</th>\n",
       "      <th>ARPU_dif</th>\n",
       "    </tr>\n",
       "  </thead>\n",
       "  <tbody>\n",
       "    <tr>\n",
       "      <th>0</th>\n",
       "      <td>0.050715</td>\n",
       "      <td>0.046156</td>\n",
       "      <td>933.589744</td>\n",
       "      <td>1257.878992</td>\n",
       "      <td>47.35</td>\n",
       "      <td>58.06</td>\n",
       "      <td>0.91</td>\n",
       "      <td>1.35</td>\n",
       "      <td>1.23</td>\n",
       "    </tr>\n",
       "  </tbody>\n",
       "</table>\n",
       "</div>"
      ],
      "text/plain": [
       "       CR_A      CR_B     ARPPU_A      ARPPU_B  ARPU_A  ARPU_B  CR_dif  \\\n",
       "0  0.050715  0.046156  933.589744  1257.878992   47.35   58.06    0.91   \n",
       "\n",
       "   ARPPU_dif  ARPU_dif  \n",
       "0       1.35      1.23  "
      ]
     },
     "execution_count": 63,
     "metadata": {},
     "output_type": "execute_result"
    }
   ],
   "source": [
    "updated_metrics_df"
   ]
  },
  {
   "cell_type": "markdown",
   "metadata": {},
   "source": [
    "### 3.1.2 Реализуйте функцию, которая будет строить графики по получаемым метрикам."
   ]
  },
  {
   "cell_type": "code",
   "execution_count": 64,
   "metadata": {},
   "outputs": [],
   "source": [
    "def get_metrics_plots(*args, concate_list=[]):\n",
    "    \n",
    "    for arg in args:\n",
    "        concate_list.append(pd.DataFrame(arg))\n",
    "    new_plot_metrics = pd.concat(concate_list).reset_index(drop=True)\n",
    "\n",
    "    for metric in ('CR', 'ARPPU', 'ARPU'):\n",
    "        \n",
    "        fig, (ax1, ax2) = plt.subplots(2)\n",
    "\n",
    "\n",
    "        new_plot_metrics[[f'{metric}_A', f'{metric}_B']].plot(ax=ax1, \n",
    "                                                              kind='barh',\n",
    "                                                              figsize=(20, 6), \n",
    "                                                              colormap='Dark2', \n",
    "                                                              xlabel='Added data number', \n",
    "                                                              title=f'{metric} distribution{\", shares\" if metric == \"CR\" else \", money\"}', \n",
    "                                                              grid='on')\n",
    "        \n",
    "        (new_plot_metrics[[f'{metric}_dif']] - 1).mul(100).plot(ax=ax2, \n",
    "                                                               kind='line', \n",
    "                                                               figsize=(20, 6),\n",
    "                                                               colormap='Dark2',\n",
    "                                                               xlabel='Added data number',\n",
    "                                                               title=f'{metric} variation distribution, %',\n",
    "                                                               grid='on')\n",
    "        plt.subplots_adjust(hspace=0.9)\n",
    "        plt.xticks(new_plot_metrics.index)\n",
    "\n",
    "        plt.show()"
   ]
  },
  {
   "cell_type": "code",
   "execution_count": 65,
   "metadata": {},
   "outputs": [
    {
     "data": {
      "image/png": "[encoded data removed]",
      "text/plain": [
       "<Figure size 1440x432 with 2 Axes>"
      ]
     },
     "metadata": {},
     "output_type": "display_data"
    },
    {
     "data": {
      "image/png": "[encoded data removed]",
      "text/plain": [
       "<Figure size 1440x432 with 2 Axes>"
      ]
     },
     "metadata": {},
     "output_type": "display_data"
    },
    {
     "data": {
      "image/png": "[encoded data removed]",
      "text/plain": [
       "<Figure size 1440x432 with 2 Axes>"
      ]
     },
     "metadata": {},
     "output_type": "display_data"
    }
   ],
   "source": [
    "# Для использования функции, необходимо ввсети в качестве аргументов интересующие фреймы с метриками.\n",
    "get_metrics_plots(metrics_df, updated_metrics_df)"
   ]
  },
  {
   "cell_type": "code",
   "execution_count": null,
   "metadata": {},
   "outputs": [],
   "source": []
  },
  {
   "cell_type": "code",
   "execution_count": null,
   "metadata": {},
   "outputs": [],
   "source": []
  },
  {
   "cell_type": "code",
   "execution_count": null,
   "metadata": {},
   "outputs": [],
   "source": []
  },
  {
   "cell_type": "code",
   "execution_count": null,
   "metadata": {},
   "outputs": [],
   "source": []
  },
  {
   "cell_type": "code",
   "execution_count": null,
   "metadata": {},
   "outputs": [],
   "source": []
  },
  {
   "cell_type": "code",
   "execution_count": null,
   "metadata": {},
   "outputs": [],
   "source": []
  }
 ],
 "metadata": {
  "kernelspec": {
   "display_name": "Python 3",
   "language": "python",
   "name": "python3"
  },
  "language_info": {
   "codemirror_mode": {
    "name": "ipython",
    "version": 3
   },
   "file_extension": ".py",
   "mimetype": "text/x-python",
   "name": "python",
   "nbconvert_exporter": "python",
   "pygments_lexer": "ipython3",
   "version": "3.7.3"
  }
 },
 "nbformat": 4,
 "nbformat_minor": 4
}
